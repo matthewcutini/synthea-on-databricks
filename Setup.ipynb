{
 "cells": [
  {
   "cell_type": "markdown",
   "metadata": {
    "application/vnd.databricks.v1+cell": {
     "cellMetadata": {
      "byteLimit": 2048000,
      "rowLimit": 10000
     },
     "inputWidgets": {},
     "nuid": "63135ec9-017e-4d6d-bfb2-2eff21f1538a",
     "showTitle": false,
     "tableResultSettingsMap": {},
     "title": ""
    }
   },
   "source": [
    "Synthea runs on Java Development Kit (JDK) 17, so use a cluster that has DBR 16.0 or above, as JDK 17 is the default. Check that you have JDK 17 installed:"
   ]
  },
  {
   "cell_type": "code",
   "execution_count": 0,
   "metadata": {
    "application/vnd.databricks.v1+cell": {
     "cellMetadata": {
      "byteLimit": 2048000,
      "rowLimit": 10000
     },
     "inputWidgets": {},
     "nuid": "24f6dffb-e9de-468e-bcf8-9a2c70b541e2",
     "showTitle": false,
     "tableResultSettingsMap": {},
     "title": ""
    }
   },
   "outputs": [],
   "source": [
    "%sh\n",
    "java -version"
   ]
  },
  {
   "cell_type": "code",
   "execution_count": 0,
   "metadata": {
    "application/vnd.databricks.v1+cell": {
     "cellMetadata": {
      "byteLimit": 2048000,
      "rowLimit": 10000
     },
     "inputWidgets": {},
     "nuid": "bed01633-5fee-4f96-b00e-4b9d9cb787d7",
     "showTitle": false,
     "tableResultSettingsMap": {},
     "title": ""
    }
   },
   "outputs": [],
   "source": [
    "dbutils.widgets.text(name = \"catalog_name\", defaultValue=\"\", label=\"Catalog Name\")\n",
    "dbutils.widgets.text(name = \"schema_name\", defaultValue=\"\", label=\"Schema Name\")\n",
    "dbutils.widgets.text(name = \"destination\", defaultValue=\"./output/\", label = \"Base Directory\")"
   ]
  },
  {
   "cell_type": "code",
   "execution_count": 0,
   "metadata": {
    "application/vnd.databricks.v1+cell": {
     "cellMetadata": {
      "byteLimit": 2048000,
      "rowLimit": 10000
     },
     "inputWidgets": {},
     "nuid": "dbb42946-c7dd-4efd-888f-1c9781f7602f",
     "showTitle": false,
     "tableResultSettingsMap": {},
     "title": ""
    }
   },
   "outputs": [],
   "source": [
    "catalog_name = dbutils.widgets.get(name = \"catalog_name\")\n",
    "schema_name = dbutils.widgets.get(name = \"schema_name\")\n",
    "destination = dbutils.widgets.get(name = \"destination\")\n",
    "volume_path = f\"/Volumes/{catalog_name}/{schema_name}/synthetic_files_raw/\""
   ]
  },
  {
   "cell_type": "code",
   "execution_count": 0,
   "metadata": {
    "application/vnd.databricks.v1+cell": {
     "cellMetadata": {
      "byteLimit": 2048000,
      "rowLimit": 10000
     },
     "inputWidgets": {},
     "nuid": "b37bdadd-3bc6-400b-87fc-a4da0ca9a279",
     "showTitle": false,
     "tableResultSettingsMap": {},
     "title": ""
    }
   },
   "outputs": [],
   "source": [
    "try:\n",
    "    # Code that may raise an exception\n",
    "    dbutils.fs.ls(f\"{volume_path}synthea_config.txt\")\n",
    "    result = \"True\"  # Return 0 if it works\n",
    "except:\n",
    "    result = \"False\"  # Return 1 if an exception occurs\n",
    "\n",
    "result  # Return the result"
   ]
  },
  {
   "cell_type": "code",
   "execution_count": 0,
   "metadata": {
    "application/vnd.databricks.v1+cell": {
     "cellMetadata": {
      "byteLimit": 2048000,
      "rowLimit": 10000
     },
     "inputWidgets": {},
     "nuid": "1be00f50-1b16-4526-8498-dba482191299",
     "showTitle": false,
     "tableResultSettingsMap": {},
     "title": ""
    }
   },
   "outputs": [],
   "source": [
    "dbutils.jobs.taskValues.set(key = 'result', value = result)"
   ]
  },
  {
   "cell_type": "code",
   "execution_count": 0,
   "metadata": {
    "application/vnd.databricks.v1+cell": {
     "cellMetadata": {
      "byteLimit": 2048000,
      "implicitDf": true,
      "rowLimit": 10000
     },
     "inputWidgets": {},
     "nuid": "ff31eb5b-ec2f-4e70-9eaa-cbeb45f11c6e",
     "showTitle": false,
     "tableResultSettingsMap": {},
     "title": ""
    }
   },
   "outputs": [],
   "source": [
    "%sql\n",
    "create catalog if not exists ${catalog_name};\n",
    "use catalog ${catalog_name};"
   ]
  },
  {
   "cell_type": "code",
   "execution_count": 0,
   "metadata": {
    "application/vnd.databricks.v1+cell": {
     "cellMetadata": {
      "byteLimit": 2048000,
      "implicitDf": true,
      "rowLimit": 10000
     },
     "inputWidgets": {},
     "nuid": "80639340-c582-42aa-8646-ed5eb4d81aae",
     "showTitle": false,
     "tableResultSettingsMap": {},
     "title": ""
    }
   },
   "outputs": [],
   "source": [
    "%sql\n",
    "create schema if not exists ${schema_name};\n",
    "use schema ${schema_name};"
   ]
  },
  {
   "cell_type": "code",
   "execution_count": 0,
   "metadata": {
    "application/vnd.databricks.v1+cell": {
     "cellMetadata": {
      "byteLimit": 2048000,
      "implicitDf": true,
      "rowLimit": 10000
     },
     "inputWidgets": {},
     "nuid": "c1dffdeb-9682-4f60-89c9-119c845bbcad",
     "showTitle": false,
     "tableResultSettingsMap": {},
     "title": ""
    }
   },
   "outputs": [],
   "source": [
    "%sql\n",
    "create volume if not exists synthetic_files_raw;"
   ]
  },
  {
   "cell_type": "code",
   "execution_count": 0,
   "metadata": {
    "application/vnd.databricks.v1+cell": {
     "cellMetadata": {
      "byteLimit": 2048000,
      "rowLimit": 10000
     },
     "inputWidgets": {},
     "nuid": "aa5ef5cc-53ed-4c6c-be61-3b389e5803e1",
     "showTitle": false,
     "tableResultSettingsMap": {},
     "title": ""
    }
   },
   "outputs": [],
   "source": [
    "# Retrieve the latest Synthea release\n",
    "from urllib.request import urlretrieve\n",
    "urlretrieve(\n",
    "  url = \"https://github.com/synthetichealth/synthea/releases/download/master-branch-latest/synthea-with-dependencies.jar\"\n",
    "  ,filename = f\"{volume_path}synthea-with-dependencies.jar\"\n",
    ")"
   ]
  },
  {
   "cell_type": "code",
   "execution_count": 0,
   "metadata": {
    "application/vnd.databricks.v1+cell": {
     "cellMetadata": {
      "byteLimit": 2048000,
      "rowLimit": 10000
     },
     "inputWidgets": {},
     "nuid": "2b21222d-6cc3-4ced-85ae-a74c28ed62a4",
     "showTitle": false,
     "tableResultSettingsMap": {},
     "title": ""
    }
   },
   "outputs": [],
   "source": [
    "# Execute the Synthea JAR one time to initialize\n",
    "command = f\"\"\"\n",
    "cd {volume_path}\n",
    "java -jar synthea-with-dependencies.jar\n",
    "\"\"\""
   ]
  },
  {
   "cell_type": "code",
   "execution_count": 0,
   "metadata": {
    "application/vnd.databricks.v1+cell": {
     "cellMetadata": {
      "byteLimit": 2048000,
      "rowLimit": 10000
     },
     "inputWidgets": {},
     "nuid": "1e9c0726-7e91-418a-a108-87c9a6d9906d",
     "showTitle": false,
     "tableResultSettingsMap": {},
     "title": ""
    }
   },
   "outputs": [],
   "source": [
    "# Create a Synthea configuration file and write it to the volume\n",
    "config_file_text = (\n",
    "f\"\"\"# synthea streaming simulation configuration file\n",
    "exporter.ccda.export = false\n",
    "exporter.fhir.export = false\n",
    "exporter.csv.export = true\n",
    "exporter.csv.folder_per_run = true\n",
    "\n",
    "exporter.baseDirectory = {destination}\n",
    "generate.append_numbers_to_person_names = false\n",
    "generate.default_population = 5000\n",
    "exporter.clinical_note.export = true\n",
    "\"\"\")\n",
    "\n",
    "filename = f\"{volume_path}synthea_config.txt\"\n",
    "\n",
    "with open(filename, \"w\") as f:\n",
    "    f.write(config_file_text)\n",
    "\n",
    "f.close()"
   ]
  },
  {
   "cell_type": "code",
   "execution_count": 0,
   "metadata": {
    "application/vnd.databricks.v1+cell": {
     "cellMetadata": {
      "byteLimit": 2048000,
      "rowLimit": 10000
     },
     "inputWidgets": {},
     "nuid": "eb37a813-5662-4dc9-9a4b-f5de8ab00111",
     "showTitle": false,
     "tableResultSettingsMap": {},
     "title": ""
    }
   },
   "outputs": [],
   "source": [
    "def data_generator(volume_path: str = volume_path, config_file_path: str = f\"{volume_path}synthea_config.txt\", additional_options: str = \"\", verbose: bool = False):\n",
    "  command = (\n",
    "  f\"\"\"cd {volume_path}\n",
    "  java -jar synthea-with-dependencies.jar -c {config_file_path} {additional_options}\n",
    "  \"\"\")\n",
    "  if verbose == True:\n",
    "    print(command)\n",
    "  result = subprocess.run([command], stdout=subprocess.PIPE, stderr=subprocess.PIPE, text=True, shell=True)\n",
    "  return result"
   ]
  },
  {
   "cell_type": "code",
   "execution_count": 0,
   "metadata": {
    "application/vnd.databricks.v1+cell": {
     "cellMetadata": {
      "byteLimit": 2048000,
      "rowLimit": 10000
     },
     "inputWidgets": {},
     "nuid": "d6ec18a9-a18e-400f-890f-ffa410723bd2",
     "showTitle": false,
     "tableResultSettingsMap": {},
     "title": ""
    }
   },
   "outputs": [],
   "source": [
    "import subprocess\n",
    "run_results = data_generator(\n",
    "\n",
    "   volume_path=volume_path\n",
    "  ,config_file_path=f\"{volume_path}synthea_config.txt\"\n",
    "  ,additional_options=\"Utah\"\n",
    "  ,verbose=True\n",
    ")"
   ]
  },
  {
   "cell_type": "code",
   "execution_count": 0,
   "metadata": {
    "application/vnd.databricks.v1+cell": {
     "cellMetadata": {
      "byteLimit": 2048000,
      "rowLimit": 10000
     },
     "inputWidgets": {},
     "nuid": "7aaf2961-9e0c-49c1-8221-6eb42aba1355",
     "showTitle": false,
     "tableResultSettingsMap": {},
     "title": ""
    }
   },
   "outputs": [],
   "source": [
    "source_volume_path = f\"/Volumes/{catalog_name}/{schema_name}/synthetic_files_raw/\"\n",
    "target_volume_path = f\"/Volumes/{catalog_name}/{schema_name}/landing/\""
   ]
  },
  {
   "cell_type": "code",
   "execution_count": 0,
   "metadata": {
    "application/vnd.databricks.v1+cell": {
     "cellMetadata": {
      "byteLimit": 2048000,
      "rowLimit": 10000
     },
     "inputWidgets": {},
     "nuid": "6a66215e-2df0-4b97-be9a-1256cf66293b",
     "showTitle": false,
     "tableResultSettingsMap": {},
     "title": ""
    }
   },
   "outputs": [],
   "source": [
    "# create landing zone volume if not exists\n",
    "spark.sql(f'CREATE VOLUME IF NOT EXISTS {catalog_name}.{schema_name}.landing')"
   ]
  },
  {
   "cell_type": "code",
   "execution_count": 0,
   "metadata": {
    "application/vnd.databricks.v1+cell": {
     "cellMetadata": {
      "byteLimit": 2048000,
      "rowLimit": 10000
     },
     "inputWidgets": {},
     "nuid": "a54c4051-da82-43be-bf23-787ebb19b863",
     "showTitle": false,
     "tableResultSettingsMap": {},
     "title": ""
    }
   },
   "outputs": [],
   "source": [
    "# Copy new files from synthetic_files_raw/output/csv folder to landing zone\n",
    "\n",
    "import os\n",
    "\n",
    "# get directories and order by file name (timestamp) in ascending order (ensure correct processing order)\n",
    "directories = dbutils.fs.ls(f\"{source_volume_path}/output/csv\")\n",
    "directories_sorted = sorted(directories)\n",
    "\n",
    "# for each directory, get files and move them to landing\n",
    "for directory in directories_sorted:\n",
    "  file_path = directory[0]\n",
    "  directory = directory[1].split('/')[0]\n",
    "  files = spark.sql(f\"LIST '{file_path}' \")\n",
    "  # define file/directory to ignore\n",
    "  file_exception = 'data_quality_output_data_quality_output/'  \n",
    "  print(f\"Copying files from directory: {directory} \\n source:{file_path}  \\n target:{target_volume_path}\")\n",
    "\n",
    "  # get files in given directory\n",
    "  for file in files.collect():\n",
    "    # create a folder for the csv based off of file name\n",
    "    file_path = file[0]\n",
    "    file_time = file_path.split('/')[-2]\n",
    "    directory_name = file[1].split('.')[0]\n",
    "    file_name = file_time + '_' + file[1].split('.')[0]\n",
    "    \n",
    "    # check if file exists and copy file\n",
    "    dst = f\"{target_volume_path}{directory_name}/{file_name}.csv\"\n",
    "\n",
    "    if os.path.exists(dst):\n",
    "      print(f'File already exists, skipping file: {file_name}.csv')\n",
    "    else:\n",
    "      print(f'Copying file: {file_name}.csv to target: {target_volume_path}')\n",
    "      dbutils.fs.cp(f\"{file_path}\", dst)\n",
    "  print(f'Successfully copied files to target \\n target: {target_volume_path}')"
   ]
  },
  {
   "cell_type": "code",
   "execution_count": 0,
   "metadata": {
    "application/vnd.databricks.v1+cell": {
     "cellMetadata": {
      "byteLimit": 2048000,
      "rowLimit": 10000
     },
     "inputWidgets": {},
     "nuid": "f2d330c3-3e33-446c-b530-562e961acd77",
     "showTitle": false,
     "tableResultSettingsMap": {},
     "title": ""
    }
   },
   "outputs": [],
   "source": [
    "# Copy new files from synthetic_files_raw/output/notes to landing zone\n",
    "\n",
    "source_path = f\"/Volumes/{catalog_name}/{schema_name}/synthetic_files_raw/output/notes\"\n",
    "target_path = f\"/Volumes/{catalog_name}/{schema_name}/landing/notes/\"\n",
    "\n",
    "files = [file.path for file in dbutils.fs.ls(source_path)]\n",
    "\n",
    "for file in files:\n",
    "    file_name = file.split('/')[-1]\n",
    "    dst = f\"{target_path}{file_name}\"\n",
    "\n",
    "    if os.path.exists(dst):\n",
    "        print(f'File already exists, skipping file: {file_name}')\n",
    "    else:\n",
    "        print(f'Copying file: {file_name} to target: {target_path}')\n",
    "        dbutils.fs.cp(file, dst, recurse=True)\n",
    "\n",
    "print(f'Successfully copied files to target: {target_path}')"
   ]
  },
  {
   "cell_type": "code",
   "execution_count": 0,
   "metadata": {
    "application/vnd.databricks.v1+cell": {
     "cellMetadata": {
      "byteLimit": 2048000,
      "rowLimit": 10000
     },
     "inputWidgets": {},
     "nuid": "1dc5cde7-3f52-4ef9-a662-6b5bd253a0b8",
     "showTitle": false,
     "tableResultSettingsMap": {},
     "title": ""
    }
   },
   "outputs": [],
   "source": [
    "# Ingest the CSV files into Delta tables\n",
    "\n",
    "# Define the base path to the landing folder\n",
    "base_path = f\"/Volumes/{catalog_name}/{schema_name}/landing/\"\n",
    "\n",
    "# Get all subdirectories in the base path\n",
    "subdirectories = [d for d in os.listdir(base_path) if os.path.isdir(os.path.join(base_path, d))]\n",
    "\n",
    "# Remove the 'notes' folder from the subdirectories list\n",
    "subdirectories = [d for d in subdirectories if d != 'notes']\n",
    "\n",
    "print(subdirectories)\n",
    "\n",
    "# Iterate over each subdirectory and process the files\n",
    "for subdir in subdirectories:\n",
    "    file_path = os.path.join(base_path, subdir)\n",
    "    \n",
    "    # Read the files into a DataFrame\n",
    "    df = spark.read.format(\"csv\").option(\"header\", \"true\").load(file_path)\n",
    "    \n",
    "    # Write the DataFrame to a Delta table\n",
    "    table_name = f\"{catalog_name}.{schema_name}.{subdir}\"\n",
    "    df.write.format(\"delta\").mode(\"overwrite\").saveAsTable(table_name)"
   ]
  },
  {
   "cell_type": "code",
   "execution_count": 0,
   "metadata": {
    "application/vnd.databricks.v1+cell": {
     "cellMetadata": {
      "byteLimit": 2048000,
      "rowLimit": 10000
     },
     "inputWidgets": {},
     "nuid": "b45a11fc-f494-40ab-8558-c5ddb7219c47",
     "showTitle": false,
     "tableResultSettingsMap": {},
     "title": ""
    }
   },
   "outputs": [],
   "source": [
    "# Ingest the notes files (in txt format) into Delta tables\n",
    "\n",
    "# Define the path to the notes folder\n",
    "notes_path = f\"/Volumes/{catalog_name}/{schema_name}/synthetic_files_raw/output/notes/\"\n",
    "\n",
    "# Get all files in the notes folder\n",
    "note_files = [f for f in os.listdir(notes_path) if os.path.isfile(os.path.join(notes_path, f))]\n",
    "\n",
    "# Create a list to hold the file data\n",
    "data = []\n",
    "\n",
    "# Iterate over each file and read its content\n",
    "for note_file in note_files:\n",
    "    file_path = os.path.join(notes_path, note_file)\n",
    "    with open(file_path, 'r') as file:\n",
    "        file_text = file.read()\n",
    "        data.append((note_file, file_text))\n",
    "\n",
    "# Create a DataFrame from the data\n",
    "notes_df = spark.createDataFrame(data, [\"file_name\", \"file_text\"])\n",
    "\n",
    "# Write the DataFrame to a Delta table\n",
    "notes_df.write.format(\"delta\").mode(\"overwrite\").saveAsTable(f\"{catalog_name}.{schema_name}.notes\")"
   ]
  }
 ],
 "metadata": {
  "application/vnd.databricks.v1+notebook": {
   "computePreferences": null,
   "dashboards": [],
   "environmentMetadata": {
    "base_environment": "",
    "environment_version": "2"
   },
   "inputWidgetPreferences": null,
   "language": "python",
   "notebookMetadata": {
    "mostRecentlyExecutedCommandWithImplicitDF": {
     "commandId": 4335879931280705,
     "dataframes": [
      "_sqldf"
     ]
    },
    "pythonIndentUnit": 2
   },
   "notebookName": "Setup",
   "widgets": {
    "catalog_name": {
     "currentValue": "mcutini",
     "nuid": "dd328b9d-cbac-4d61-b8e7-4e52ebb02329",
     "typedWidgetInfo": {
      "autoCreated": false,
      "defaultValue": "",
      "label": "Catalog Name",
      "name": "catalog_name",
      "options": {
       "widgetDisplayType": "Text",
       "validationRegex": null
      },
      "parameterDataType": "String"
     },
     "widgetInfo": {
      "widgetType": "text",
      "defaultValue": "",
      "label": "Catalog Name",
      "name": "catalog_name",
      "options": {
       "widgetType": "text",
       "autoCreated": null,
       "validationRegex": null
      }
     }
    },
    "destination": {
     "currentValue": "./output/",
     "nuid": "48c06932-a6ee-4864-80c5-c6287e215bac",
     "typedWidgetInfo": {
      "autoCreated": false,
      "defaultValue": "./output/",
      "label": "Base Directory",
      "name": "destination",
      "options": {
       "widgetDisplayType": "Text",
       "validationRegex": null
      },
      "parameterDataType": "String"
     },
     "widgetInfo": {
      "widgetType": "text",
      "defaultValue": "./output/",
      "label": "Base Directory",
      "name": "destination",
      "options": {
       "widgetType": "text",
       "autoCreated": null,
       "validationRegex": null
      }
     }
    },
    "schema_name": {
     "currentValue": "utah_patients",
     "nuid": "834b4f2b-bf41-4505-9a38-69212fcd8bcf",
     "typedWidgetInfo": {
      "autoCreated": false,
      "defaultValue": "",
      "label": "Schema Name",
      "name": "schema_name",
      "options": {
       "widgetDisplayType": "Text",
       "validationRegex": null
      },
      "parameterDataType": "String"
     },
     "widgetInfo": {
      "widgetType": "text",
      "defaultValue": "",
      "label": "Schema Name",
      "name": "schema_name",
      "options": {
       "widgetType": "text",
       "autoCreated": null,
       "validationRegex": null
      }
     }
    }
   }
  },
  "language_info": {
   "name": "python"
  }
 },
 "nbformat": 4,
 "nbformat_minor": 0
}
