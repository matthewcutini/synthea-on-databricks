{
 "cells": [
  {
   "cell_type": "markdown",
   "metadata": {
    "application/vnd.databricks.v1+cell": {
     "cellMetadata": {
      "byteLimit": 2048000,
      "rowLimit": 10000
     },
     "inputWidgets": {},
     "nuid": "053bb029-d0c2-40ba-b9e0-3677230def07",
     "showTitle": false,
     "tableResultSettingsMap": {},
     "title": ""
    }
   },
   "source": [
    "This notebook is meant to be used to generate synthetic patient data using Synthea. Run this notebook from top to bottom the first time and it will create a volume in the Unity Catalog destination that you configure, and then it will generate CSV files for mock EMR data and TXT files for mock clinical notes. Finally, it will turn the files in the volume into various Delta tables. Note that to generate mock EMR data and clinical notes for 100 patients it will take about two minutes for the data generation process to complete. "
   ]
  },
  {
   "cell_type": "markdown",
   "metadata": {
    "application/vnd.databricks.v1+cell": {
     "cellMetadata": {
      "byteLimit": 2048000,
      "rowLimit": 10000
     },
     "inputWidgets": {},
     "nuid": "63135ec9-017e-4d6d-bfb2-2eff21f1538a",
     "showTitle": false,
     "tableResultSettingsMap": {},
     "title": ""
    }
   },
   "source": [
    "**In Cell 3:** check that JDK 17 is installed on your cluster. Synthea runs on Java Development Kit (JDK) 17, so use a cluster that has DBR 16.0 or above, as JDK 17 is the default in such a cluster. As of June 30, 2025 Serverless compute does not have JDK 17."
   ]
  },
  {
   "cell_type": "code",
   "execution_count": 0,
   "metadata": {
    "application/vnd.databricks.v1+cell": {
     "cellMetadata": {
      "byteLimit": 2048000,
      "rowLimit": 10000
     },
     "inputWidgets": {},
     "nuid": "24f6dffb-e9de-468e-bcf8-9a2c70b541e2",
     "showTitle": false,
     "tableResultSettingsMap": {},
     "title": ""
    }
   },
   "outputs": [],
   "source": [
    "%sh\n",
    "java -version"
   ]
  },
  {
   "cell_type": "code",
   "execution_count": 0,
   "metadata": {
    "application/vnd.databricks.v1+cell": {
     "cellMetadata": {
      "byteLimit": 2048000,
      "rowLimit": 10000
     },
     "inputWidgets": {},
     "nuid": "bed01633-5fee-4f96-b00e-4b9d9cb787d7",
     "showTitle": false,
     "tableResultSettingsMap": {},
     "title": ""
    }
   },
   "outputs": [],
   "source": [
    "# Create widgets that will set the values for catalog name, schema name, and volume name:\n",
    "\n",
    "dbutils.widgets.text(name = \"catalog_name\", defaultValue=\"\", label=\"Catalog Name\")\n",
    "dbutils.widgets.text(name = \"schema_name\", defaultValue=\"\", label=\"Schema Name\")\n",
    "dbutils.widgets.text(name = \"volume_name\", defaultValue=\"\", label=\"Volume Name\")\n",
    "\n",
    "# Create widgets that will set the scope for the synthetic data that you want Synthea to generate:\n",
    "\n",
    "dbutils.widgets.text(name = \"num_patients\", defaultValue=\"100\", label=\"Number of Patients\")\n",
    "dbutils.widgets.text(name = \"generate_notes\", defaultValue=\"false\", label=\"Generate Notes\")\n",
    "dbutils.widgets.text(name = \"geographic_location\", defaultValue=\"Utah\", label=\"Geographic Location\")"
   ]
  },
  {
   "cell_type": "code",
   "execution_count": 0,
   "metadata": {
    "application/vnd.databricks.v1+cell": {
     "cellMetadata": {
      "byteLimit": 2048000,
      "rowLimit": 10000
     },
     "inputWidgets": {},
     "nuid": "dbb42946-c7dd-4efd-888f-1c9781f7602f",
     "showTitle": false,
     "tableResultSettingsMap": {},
     "title": ""
    }
   },
   "outputs": [],
   "source": [
    "# Grab the widget values\n",
    "\n",
    "catalog_name = dbutils.widgets.get(name = \"catalog_name\")\n",
    "schema_name = dbutils.widgets.get(name = \"schema_name\")\n",
    "volume_name = dbutils.widgets.get(name = \"volume_name\")\n",
    "volume_path = f\"/Volumes/{catalog_name}/{schema_name}/{volume_name}/\"\n",
    "num_patients = dbutils.widgets.get(name = \"num_patients\")\n",
    "generate_notes = dbutils.widgets.get(name = \"generate_notes\")\n",
    "geographic_location = dbutils.widgets.get(name = \"geographic_location\")\n"
   ]
  },
  {
   "cell_type": "code",
   "execution_count": 0,
   "metadata": {
    "application/vnd.databricks.v1+cell": {
     "cellMetadata": {
      "byteLimit": 2048000,
      "implicitDf": true,
      "rowLimit": 10000
     },
     "inputWidgets": {},
     "nuid": "ff31eb5b-ec2f-4e70-9eaa-cbeb45f11c6e",
     "showTitle": false,
     "tableResultSettingsMap": {},
     "title": ""
    }
   },
   "outputs": [],
   "source": [
    "%sql\n",
    "create catalog if not exists IDENTIFIER(:catalog_name);\n",
    "use catalog IDENTIFIER(:catalog_name);"
   ]
  },
  {
   "cell_type": "code",
   "execution_count": 0,
   "metadata": {
    "application/vnd.databricks.v1+cell": {
     "cellMetadata": {
      "byteLimit": 2048000,
      "implicitDf": true,
      "rowLimit": 10000
     },
     "inputWidgets": {},
     "nuid": "80639340-c582-42aa-8646-ed5eb4d81aae",
     "showTitle": false,
     "tableResultSettingsMap": {},
     "title": ""
    }
   },
   "outputs": [],
   "source": [
    "%sql\n",
    "create schema if not exists IDENTIFIER(:schema_name);\n",
    "use schema IDENTIFIER(:schema_name);"
   ]
  },
  {
   "cell_type": "code",
   "execution_count": 0,
   "metadata": {
    "application/vnd.databricks.v1+cell": {
     "cellMetadata": {
      "byteLimit": 2048000,
      "implicitDf": true,
      "rowLimit": 10000
     },
     "inputWidgets": {},
     "nuid": "c1dffdeb-9682-4f60-89c9-119c845bbcad",
     "showTitle": false,
     "tableResultSettingsMap": {},
     "title": ""
    }
   },
   "outputs": [],
   "source": [
    "%sql\n",
    "create volume if not exists IDENTIFIER(:volume_name);"
   ]
  },
  {
   "cell_type": "code",
   "execution_count": 0,
   "metadata": {
    "application/vnd.databricks.v1+cell": {
     "cellMetadata": {
      "byteLimit": 2048000,
      "rowLimit": 10000
     },
     "inputWidgets": {},
     "nuid": "aa5ef5cc-53ed-4c6c-be61-3b389e5803e1",
     "showTitle": false,
     "tableResultSettingsMap": {},
     "title": ""
    }
   },
   "outputs": [],
   "source": [
    "# Retrieve the latest Synthea JAR file from the Synthea Github repo and save it in your volume\n",
    "\n",
    "from urllib.request import urlretrieve\n",
    "urlretrieve(url = \"https://github.com/synthetichealth/synthea/releases/download/master-branch-latest/synthea-with-dependencies.jar\"\n",
    "           , filename = f\"{volume_path}synthea-with-dependencies.jar\"\n",
    ")"
   ]
  },
  {
   "cell_type": "code",
   "execution_count": 0,
   "metadata": {
    "application/vnd.databricks.v1+cell": {
     "cellMetadata": {
      "byteLimit": 2048000,
      "rowLimit": 10000
     },
     "inputWidgets": {},
     "nuid": "1e9c0726-7e91-418a-a108-87c9a6d9906d",
     "showTitle": false,
     "tableResultSettingsMap": {},
     "title": ""
    }
   },
   "outputs": [],
   "source": [
    "# Create a Synthea configuration file and write it to your volume\n",
    "config_file_text = (\n",
    "f\"\"\"\n",
    "generate.default_population = {num_patients}\n",
    "exporter.clinical_note.export = {generate_notes}\n",
    "exporter.ccda.export = false\n",
    "exporter.fhir.export = false\n",
    "exporter.csv.export = true\n",
    "exporter.csv.folder_per_run = true\n",
    "exporter.baseDirectory = ./output/\n",
    "generate.append_numbers_to_person_names = false\n",
    "\"\"\")\n",
    "\n",
    "filename = f\"{volume_path}synthea_config.txt\"\n",
    "\n",
    "with open(filename, \"w\") as f:\n",
    "    f.write(config_file_text)\n",
    "\n",
    "f.close()"
   ]
  },
  {
   "cell_type": "code",
   "execution_count": 0,
   "metadata": {
    "application/vnd.databricks.v1+cell": {
     "cellMetadata": {
      "byteLimit": 2048000,
      "rowLimit": 10000
     },
     "inputWidgets": {},
     "nuid": "e51d6430-1719-425c-b974-f37e11a775bd",
     "showTitle": false,
     "tableResultSettingsMap": {},
     "title": ""
    }
   },
   "outputs": [],
   "source": [
    "# Set up the Synthea JAR file to run with all of your configurations\n",
    "def data_generator():\n",
    "  command = (\n",
    "  f\"\"\"cd {volume_path}\n",
    "  java -jar synthea-with-dependencies.jar -c {volume_path}synthea_config.txt {geographic_location}\n",
    "  \"\"\")\n",
    "  result = subprocess.run([command], stdout=subprocess.PIPE, stderr=subprocess.PIPE, text=True, shell=True)\n",
    "  return result"
   ]
  },
  {
   "cell_type": "code",
   "execution_count": 0,
   "metadata": {
    "application/vnd.databricks.v1+cell": {
     "cellMetadata": {
      "byteLimit": 2048000,
      "rowLimit": 10000
     },
     "inputWidgets": {},
     "nuid": "ab6ab28d-6592-40a0-91f9-04c8d0e5cb2f",
     "showTitle": false,
     "tableResultSettingsMap": {},
     "title": ""
    }
   },
   "outputs": [],
   "source": [
    "# Run the Synthea data generation\n",
    "import subprocess\n",
    "run_results = data_generator()"
   ]
  },
  {
   "cell_type": "code",
   "execution_count": 0,
   "metadata": {
    "application/vnd.databricks.v1+cell": {
     "cellMetadata": {
      "byteLimit": 2048000,
      "rowLimit": 10000
     },
     "inputWidgets": {},
     "nuid": "7aaf2961-9e0c-49c1-8221-6eb42aba1355",
     "showTitle": false,
     "tableResultSettingsMap": {},
     "title": ""
    }
   },
   "outputs": [],
   "source": [
    "source_volume_path = volume_path\n",
    "target_volume_path = f\"/Volumes/{catalog_name}/{schema_name}/landing/\""
   ]
  },
  {
   "cell_type": "code",
   "execution_count": 0,
   "metadata": {
    "application/vnd.databricks.v1+cell": {
     "cellMetadata": {
      "byteLimit": 2048000,
      "rowLimit": 10000
     },
     "inputWidgets": {},
     "nuid": "6a66215e-2df0-4b97-be9a-1256cf66293b",
     "showTitle": false,
     "tableResultSettingsMap": {},
     "title": ""
    }
   },
   "outputs": [],
   "source": [
    "# create landing zone volume if not exists\n",
    "spark.sql(f'CREATE VOLUME IF NOT EXISTS {catalog_name}.{schema_name}.landing')"
   ]
  },
  {
   "cell_type": "code",
   "execution_count": 0,
   "metadata": {
    "application/vnd.databricks.v1+cell": {
     "cellMetadata": {
      "byteLimit": 2048000,
      "rowLimit": 10000
     },
     "inputWidgets": {},
     "nuid": "a54c4051-da82-43be-bf23-787ebb19b863",
     "showTitle": false,
     "tableResultSettingsMap": {},
     "title": ""
    }
   },
   "outputs": [],
   "source": [
    "# Copy the new files in /output/csv folders to landing zone\n",
    "\n",
    "import os\n",
    "\n",
    "# get directories and order by file name (timestamp) in ascending order (ensure correct processing order)\n",
    "directories = dbutils.fs.ls(f\"{source_volume_path}/output/csv\")\n",
    "directories_sorted = sorted(directories)\n",
    "\n",
    "# for each directory, get files and move them to landing\n",
    "for directory in directories_sorted:\n",
    "  file_path = directory[0]\n",
    "  directory = directory[1].split('/')[0]\n",
    "  files = spark.sql(f\"LIST '{file_path}' \")\n",
    "  # define file/directory to ignore\n",
    "  file_exception = 'data_quality_output_data_quality_output/'  \n",
    "  print(f\"Copying files from directory: {directory} \\n source:{file_path}  \\n target:{target_volume_path}\")\n",
    "\n",
    "  # get files in given directory\n",
    "  for file in files.collect():\n",
    "    # create a folder for the csv based off of file name\n",
    "    file_path = file[0]\n",
    "    file_time = file_path.split('/')[-2]\n",
    "    directory_name = file[1].split('.')[0]\n",
    "    file_name = file_time + '_' + file[1].split('.')[0]\n",
    "    \n",
    "    # check if file exists and copy file\n",
    "    dst = f\"{target_volume_path}{directory_name}/{file_name}.csv\"\n",
    "\n",
    "    if os.path.exists(dst):\n",
    "      print(f'File already exists, skipping file: {file_name}.csv')\n",
    "    else:\n",
    "      print(f'Copying file: {file_name}.csv to target: {target_volume_path}')\n",
    "      dbutils.fs.cp(f\"{file_path}\", dst)\n",
    "  print(f'Successfully copied files to target \\n target: {target_volume_path}')"
   ]
  },
  {
   "cell_type": "code",
   "execution_count": 0,
   "metadata": {
    "application/vnd.databricks.v1+cell": {
     "cellMetadata": {
      "byteLimit": 2048000,
      "rowLimit": 10000
     },
     "inputWidgets": {},
     "nuid": "1dc5cde7-3f52-4ef9-a662-6b5bd253a0b8",
     "showTitle": false,
     "tableResultSettingsMap": {},
     "title": ""
    }
   },
   "outputs": [],
   "source": [
    "# Ingest the CSV files into Delta tables\n",
    "\n",
    "# Define the base path to the landing folder\n",
    "base_path = f\"/Volumes/{catalog_name}/{schema_name}/landing/\"\n",
    "\n",
    "# Get all subdirectories in the base path\n",
    "subdirectories = [d for d in os.listdir(base_path) if os.path.isdir(os.path.join(base_path, d))]\n",
    "\n",
    "# Remove the 'notes' folder from the subdirectories list\n",
    "subdirectories = [d for d in subdirectories if d != 'notes']\n",
    "\n",
    "print(subdirectories)\n",
    "\n",
    "# Iterate over each subdirectory and process the files\n",
    "for subdir in subdirectories:\n",
    "    file_path = os.path.join(base_path, subdir)\n",
    "    \n",
    "    # Read the files into a DataFrame\n",
    "    df = spark.read.format(\"csv\").option(\"header\", \"true\").load(file_path)\n",
    "    \n",
    "    # Write the DataFrame to a Delta table\n",
    "    table_name = f\"{catalog_name}.{schema_name}.{subdir}\"\n",
    "    df.write.format(\"delta\").mode(\"overwrite\").saveAsTable(table_name)"
   ]
  },
  {
   "cell_type": "code",
   "execution_count": 0,
   "metadata": {
    "application/vnd.databricks.v1+cell": {
     "cellMetadata": {
      "byteLimit": 2048000,
      "rowLimit": 10000
     },
     "inputWidgets": {},
     "nuid": "f2d330c3-3e33-446c-b530-562e961acd77",
     "showTitle": false,
     "tableResultSettingsMap": {},
     "title": ""
    }
   },
   "outputs": [],
   "source": [
    "# SKIP THIS CELL IF YOU CHOSE NOT TO GENERATE NOTES\n",
    "\n",
    "# Copy the new files in /output/notes folder to landing zone\n",
    "\n",
    "source_path = f\"/Volumes/{catalog_name}/{schema_name}/{volume_name}/output/notes\"\n",
    "target_path = f\"/Volumes/{catalog_name}/{schema_name}/landing/notes/\"\n",
    "\n",
    "files = [file.path for file in dbutils.fs.ls(source_path)]\n",
    "\n",
    "for file in files:\n",
    "    file_name = file.split('/')[-1]\n",
    "    dst = f\"{target_path}{file_name}\"\n",
    "\n",
    "    if os.path.exists(dst):\n",
    "        print(f'File already exists, skipping file: {file_name}')\n",
    "    else:\n",
    "        print(f'Copying file: {file_name} to target: {target_path}')\n",
    "        dbutils.fs.cp(file, dst, recurse=True)\n",
    "\n",
    "print(f'Successfully copied files to target: {target_path}')"
   ]
  },
  {
   "cell_type": "code",
   "execution_count": 0,
   "metadata": {
    "application/vnd.databricks.v1+cell": {
     "cellMetadata": {
      "byteLimit": 2048000,
      "rowLimit": 10000
     },
     "inputWidgets": {},
     "nuid": "b45a11fc-f494-40ab-8558-c5ddb7219c47",
     "showTitle": false,
     "tableResultSettingsMap": {},
     "title": ""
    }
   },
   "outputs": [],
   "source": [
    "# SKIP THIS CELL IF YOU CHOSE NOT TO GENERATE NOTES\n",
    "\n",
    "# Ingest the notes files (in txt format) into Delta tables\n",
    "\n",
    "# Define the path to the notes folder\n",
    "notes_path = f\"/Volumes/{catalog_name}/{schema_name}/{volume_name}/output/notes/\"\n",
    "\n",
    "# Get all files in the notes folder\n",
    "note_files = [f for f in os.listdir(notes_path) if os.path.isfile(os.path.join(notes_path, f))]\n",
    "\n",
    "# Create a list to hold the file data\n",
    "data = []\n",
    "\n",
    "# Iterate over each file and read its content\n",
    "for note_file in note_files:\n",
    "    file_path = os.path.join(notes_path, note_file)\n",
    "    with open(file_path, 'r') as file:\n",
    "        file_text = file.read()\n",
    "        data.append((note_file, file_text))\n",
    "\n",
    "# Create a DataFrame from the data\n",
    "notes_df = spark.createDataFrame(data, [\"file_name\", \"file_text\"])\n",
    "\n",
    "# Write the DataFrame to a Delta table\n",
    "notes_df.write.format(\"delta\").mode(\"overwrite\").saveAsTable(f\"{catalog_name}.{schema_name}.notes\")"
   ]
  }
 ],
 "metadata": {
  "application/vnd.databricks.v1+notebook": {
   "computePreferences": null,
   "dashboards": [],
   "environmentMetadata": {
    "base_environment": "",
    "environment_version": "2"
   },
   "inputWidgetPreferences": null,
   "language": "python",
   "notebookMetadata": {
    "mostRecentlyExecutedCommandWithImplicitDF": {
     "commandId": 3315055686097725,
     "dataframes": [
      "_sqldf"
     ]
    },
    "pythonIndentUnit": 2
   },
   "notebookName": "Setup",
   "widgets": {
    "catalog_name": {
     "currentValue": "mcutini",
     "nuid": "dd328b9d-cbac-4d61-b8e7-4e52ebb02329",
     "typedWidgetInfo": {
      "autoCreated": false,
      "defaultValue": "",
      "label": "Catalog Name",
      "name": "catalog_name",
      "options": {
       "widgetDisplayType": "Text",
       "validationRegex": null
      },
      "parameterDataType": "String"
     },
     "widgetInfo": {
      "widgetType": "text",
      "defaultValue": "",
      "label": "Catalog Name",
      "name": "catalog_name",
      "options": {
       "widgetType": "text",
       "autoCreated": null,
       "validationRegex": null
      }
     }
    },
    "destination": {
     "currentValue": "./output/",
     "nuid": "48c06932-a6ee-4864-80c5-c6287e215bac",
     "typedWidgetInfo": {
      "autoCreated": false,
      "defaultValue": "./output/",
      "label": "Base Directory",
      "name": "destination",
      "options": {
       "widgetDisplayType": "Text",
       "validationRegex": null
      },
      "parameterDataType": "String"
     },
     "widgetInfo": {
      "widgetType": "text",
      "defaultValue": "./output/",
      "label": "Base Directory",
      "name": "destination",
      "options": {
       "widgetType": "text",
       "autoCreated": null,
       "validationRegex": null
      }
     }
    },
    "generate_notes": {
     "currentValue": "true",
     "nuid": "7f2d876b-30a1-472e-b2e1-3adfb40fa78e",
     "typedWidgetInfo": {
      "autoCreated": false,
      "defaultValue": "false",
      "label": "Generate Notes",
      "name": "generate_notes",
      "options": {
       "widgetDisplayType": "Text",
       "validationRegex": null
      },
      "parameterDataType": "String"
     },
     "widgetInfo": {
      "widgetType": "text",
      "defaultValue": "false",
      "label": "Generate Notes",
      "name": "generate_notes",
      "options": {
       "widgetType": "text",
       "autoCreated": null,
       "validationRegex": null
      }
     }
    },
    "geographic_location": {
     "currentValue": "Colorado",
     "nuid": "9e7d7d20-e194-45a3-b40e-ba7bf04144d5",
     "typedWidgetInfo": {
      "autoCreated": false,
      "defaultValue": "Utah",
      "label": "Geographic Location",
      "name": "geographic_location",
      "options": {
       "widgetDisplayType": "Text",
       "validationRegex": null
      },
      "parameterDataType": "String"
     },
     "widgetInfo": {
      "widgetType": "text",
      "defaultValue": "Utah",
      "label": "Geographic Location",
      "name": "geographic_location",
      "options": {
       "widgetType": "text",
       "autoCreated": null,
       "validationRegex": null
      }
     }
    },
    "num_patients": {
     "currentValue": "100",
     "nuid": "66f1ea82-a7f7-48eb-bf3a-84bd757875d0",
     "typedWidgetInfo": {
      "autoCreated": false,
      "defaultValue": "100",
      "label": "Number of Patients",
      "name": "num_patients",
      "options": {
       "widgetDisplayType": "Text",
       "validationRegex": null
      },
      "parameterDataType": "String"
     },
     "widgetInfo": {
      "widgetType": "text",
      "defaultValue": "100",
      "label": "Number of Patients",
      "name": "num_patients",
      "options": {
       "widgetType": "text",
       "autoCreated": null,
       "validationRegex": null
      }
     }
    },
    "schema_name": {
     "currentValue": "colorado_patients",
     "nuid": "834b4f2b-bf41-4505-9a38-69212fcd8bcf",
     "typedWidgetInfo": {
      "autoCreated": false,
      "defaultValue": "",
      "label": "Schema Name",
      "name": "schema_name",
      "options": {
       "widgetDisplayType": "Text",
       "validationRegex": null
      },
      "parameterDataType": "String"
     },
     "widgetInfo": {
      "widgetType": "text",
      "defaultValue": "",
      "label": "Schema Name",
      "name": "schema_name",
      "options": {
       "widgetType": "text",
       "autoCreated": null,
       "validationRegex": null
      }
     }
    },
    "volume_name": {
     "currentValue": "synthea",
     "nuid": "bf70d64d-5ef0-4ce8-9510-6497620f3156",
     "typedWidgetInfo": {
      "autoCreated": false,
      "defaultValue": "",
      "label": "Volume Name",
      "name": "volume_name",
      "options": {
       "widgetDisplayType": "Text",
       "validationRegex": null
      },
      "parameterDataType": "String"
     },
     "widgetInfo": {
      "widgetType": "text",
      "defaultValue": "",
      "label": "Volume Name",
      "name": "volume_name",
      "options": {
       "widgetType": "text",
       "autoCreated": null,
       "validationRegex": null
      }
     }
    }
   }
  },
  "language_info": {
   "name": "python"
  }
 },
 "nbformat": 4,
 "nbformat_minor": 0
}
